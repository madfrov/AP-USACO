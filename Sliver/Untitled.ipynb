{
 "cells": [
  {
   "cell_type": "code",
   "execution_count": 33,
   "id": "86e97c75-32a2-4bb3-8816-26c3971c7ebe",
   "metadata": {},
   "outputs": [
    {
     "name": "stdin",
     "output_type": "stream",
     "text": [
      " 5\n",
      " 0 1 3 3 3\n",
      " 0 2 2 2\n",
      " 0 1 2\n",
      " 0 1\n",
      " 0\n"
     ]
    },
    {
     "name": "stdout",
     "output_type": "stream",
     "text": [
      "0 1 3 2 1 \n"
     ]
    }
   ],
   "source": [
    "maxN = 310\n",
    "a = [[0] * maxN for _ in range(maxN)]  # 初始化一个二维数组a，用于存储输入的数\n",
    "ans = [0] * maxN  # 初始化数组ans，存储计算结果\n",
    "\n",
    "def main():\n",
    "    n = int(input())  # 输入n，表示矩阵的大小\n",
    "    for i in range(1, n + 1):\n",
    "        values = list(map(int, input().split()))  # 输入第i行的数，并转换为整数列表\n",
    "        for j, value in enumerate(values, start=i):  # 从第i列开始填入数据\n",
    "            a[i][j] = value\n",
    "    \n",
    "    ans[1] = 0  # 初始化第一个结果为0\n",
    "    ans[2] = ans[1] + a[1][2]  # 计算第二个结果\n",
    "    last = 2  # 初始化last为2，表示上一个已计算的索引\n",
    "\n",
    "    # 从第3个元素开始遍历到第n个元素\n",
    "    for i in range(3, n + 1):\n",
    "        if a[last-1][i] == a[last-1][last] + a[last][i]:  # 检查是否满足某个条件\n",
    "            if ans[last] > ans[last-1]:\n",
    "                ans[i] = ans[last] + a[last][i]  # 根据条件更新ans[i]\n",
    "            else:\n",
    "                ans[i] = ans[last] - a[last][i]\n",
    "        elif a[last-1][i] < a[last-1][last] + a[last][i]:  # 检查另一个条件\n",
    "            if ans[last] > ans[last-1]:\n",
    "                ans[i] = ans[last] - a[last][i]\n",
    "            else:\n",
    "                ans[i] = ans[last] + a[last][i]\n",
    "        if a[i-1][i] != 0:  # 如果a[i-1][i]不是0，更新last\n",
    "            last = i\n",
    "\n",
    "    for i in range(1, n + 1):  # 输出结果数组\n",
    "        print(ans[i], end=\" \")\n",
    "    print()\n",
    "\n",
    "if __name__ == \"__main__\":\n",
    "    main()"
   ]
  },
  {
   "cell_type": "code",
   "execution_count": 45,
   "id": "349c4690-6d86-4607-a7be-ffa9af2c4e9b",
   "metadata": {},
   "outputs": [
    {
     "name": "stdin",
     "output_type": "stream",
     "text": [
      " 1\n",
      " abc\n",
      " ccb\n"
     ]
    },
    {
     "name": "stdout",
     "output_type": "stream",
     "text": [
      "3\n"
     ]
    }
   ],
   "source": [
    "def char_to_index(char):\n",
    "    return ord(char) - ord('A') + 1 if char.isupper() else ord(char) - ord('a') + 27\n",
    "\n",
    "def main():\n",
    "    test_cases = int(input())  # 输入测试数据的数量\n",
    "    for _ in range(test_cases):\n",
    "        mapping = [0] * 53  # 存储字符映射关系\n",
    "        indegree = [0] * 53  # 存储每个字符的入度\n",
    "        start_group = [0] * 53  # 用于环检测\n",
    "\n",
    "        source_string = input().strip()  # 输入源字符串去空格\n",
    "        target_string = input().strip()  # 输入目标字符串\n",
    "\n",
    "        target_set = set()  # 存储目标字符的集合\n",
    "        is_convertible = True  # 标记是否可转换\n",
    "        is_same = True  # 标记是否所有字符相同\n",
    "        length = len(source_string)  # 字符串长度\n",
    "\n",
    "        for i in range(length):\n",
    "            source_index = char_to_index(source_string[i])\n",
    "            target_index = char_to_index(target_string[i])\n",
    "            if mapping[source_index] and mapping[source_index] != target_index:\n",
    "                is_convertible = False  # 同一源字符指向不同目标字符\n",
    "                break\n",
    "            mapping[source_index] = target_index  # 更新映射关系\n",
    "            target_set.add(target_index)  # 添加目标字符到集合\n",
    "            if source_string[i] != target_string[i]:\n",
    "                is_same = False  # 标记字符不同\n",
    "\n",
    "        if len(target_set) == 52 and not is_same:\n",
    "            is_convertible = False  # 所有字符都不同且不可转换\n",
    "\n",
    "        if not is_convertible:\n",
    "            print(\"-1\")\n",
    "            continue\n",
    "\n",
    "        if is_same:\n",
    "            print(\"0\")\n",
    "            continue\n",
    "\n",
    "        operation_count = 0  # 记录需要的操作数\n",
    "        for i in range(1, 53):\n",
    "            if mapping[i] and mapping[i] != i:\n",
    "                operation_count += 1\n",
    "                indegree[mapping[i]] += 1\n",
    "\n",
    "        for i in range(1, 53):\n",
    "            current = i\n",
    "            if start_group[current]:\n",
    "                continue\n",
    "            while current and not start_group[current]:\n",
    "                start_group[current] = i  # 标记同一环\n",
    "                current = mapping[current]\n",
    "            if current and current != mapping[current] and start_group[current] == i:\n",
    "                has_multiple_indegree = False  # 标记是否有多重入度\n",
    "                cycle_node = current\n",
    "                while True:\n",
    "                    if indegree[cycle_node] > 1:\n",
    "                        has_multiple_indegree = True\n",
    "                    cycle_node = mapping[cycle_node]\n",
    "                    if cycle_node == current:\n",
    "                        break\n",
    "                if not has_multiple_indegree:\n",
    "                    operation_count += 1  # 增加操作数\n",
    "\n",
    "        print(operation_count)\n",
    "\n",
    "if __name__ == \"__main__\":\n",
    "    main()"
   ]
  },
  {
   "cell_type": "code",
   "execution_count": 49,
   "id": "7b704add-a41f-4da6-8027-586ab87f695f",
   "metadata": {},
   "outputs": [
    {
     "name": "stdin",
     "output_type": "stream",
     "text": [
      " 6\n",
      " 9 7 8 2 2 2\n",
      " 1 2\n",
      " 2 4\n",
      " 1 3\n",
      " 3 5\n",
      " 3 5\n"
     ]
    },
    {
     "name": "stdout",
     "output_type": "stream",
     "text": [
      "5\n",
      "1 3 3\n",
      "3 5 3\n",
      "3 5 3\n",
      "1 2 1\n",
      "2 4 3\n"
     ]
    }
   ],
   "source": [
    "class Edge:\n",
    "    def __init__(self, to_node=0, next_node=0):\n",
    "        self.to_node = to_node\n",
    "        self.next_node = next_node\n",
    "\n",
    "class Answer:\n",
    "    def __init__(self, from_node=0, to_node=0, w=0):\n",
    "        self.from_node = from_node\n",
    "        self.to_node = to_node\n",
    "        self.w = w\n",
    "\n",
    "def add_edge(edges, head, u, v, eID):\n",
    "    edges[eID].to_node = v\n",
    "    edges[eID].next_node = head[u]\n",
    "    head[u] = eID\n",
    "\n",
    "def dfs1(u, fa, h, edges, head, ans):\n",
    "    eID = head[u]\n",
    "    while eID:\n",
    "        v = edges[eID].to_node\n",
    "        if v != fa:\n",
    "            dfs1(v, u, h, edges, head, ans)\n",
    "            if h[v] > 0:\n",
    "                ans.append(Answer(v, u, h[v]))\n",
    "            h[u] += h[v]\n",
    "        eID = edges[eID].next_node\n",
    "\n",
    "def dfs2(u, fa, h, edges, head, ans):\n",
    "    eID = head[u]\n",
    "    while eID:\n",
    "        v = edges[eID].to_node\n",
    "        if v != fa:\n",
    "            if h[v] < 0:\n",
    "                ans.append(Answer(u, v, -h[v]))\n",
    "            dfs2(v, u, h, edges, head, ans)\n",
    "        eID = edges[eID].next_node\n",
    "\n",
    "def main():\n",
    "    n = int(input().strip())\n",
    "    hay_counts = list(map(int, input().strip().split()))\n",
    "    \n",
    "    h = [0] * (n + 1)\n",
    "    sum_h = sum(hay_counts)\n",
    "    \n",
    "    for i in range(1, n + 1):\n",
    "        h[i] = hay_counts[i - 1] - sum_h // n\n",
    "\n",
    "    edges = [Edge() for _ in range(2 * n)]\n",
    "    head = [0] * (n + 1)\n",
    "    eID = 0\n",
    "    ans = []\n",
    "\n",
    "    for _ in range(n - 1):\n",
    "        u, v = map(int, input().strip().split())\n",
    "        eID += 1\n",
    "        add_edge(edges, head, u, v, eID)\n",
    "        eID += 1\n",
    "        add_edge(edges, head, v, u, eID)\n",
    "\n",
    "    dfs1(1, 0, h, edges, head, ans)\n",
    "    dfs2(1, 0, h, edges, head, ans)\n",
    "\n",
    "    print(len(ans))\n",
    "    for a in ans:\n",
    "        print(a.from_node, a.to_node, a.w)\n",
    "\n",
    "if __name__ == \"__main__\":\n",
    "    main()"
   ]
  },
  {
   "cell_type": "code",
   "execution_count": 39,
   "id": "3442eb6b-8762-4354-abd7-1b375ecbc9ba",
   "metadata": {},
   "outputs": [
    {
     "name": "stdin",
     "output_type": "stream",
     "text": [
      "    32 23 2\n"
     ]
    },
    {
     "name": "stdout",
     "output_type": "stream",
     "text": [
      "32 23 2\n"
     ]
    }
   ],
   "source": [
    "source_string = input().strip()\n",
    "print(source_string)"
   ]
  },
  {
   "cell_type": "code",
   "execution_count": 51,
   "id": "8a54690b-3caf-4e4b-a0cb-abdab1601aca",
   "metadata": {},
   "outputs": [
    {
     "name": "stdin",
     "output_type": "stream",
     "text": [
      "请输入学生的成绩： 83.6\n"
     ]
    },
    {
     "name": "stdout",
     "output_type": "stream",
     "text": [
      "B\n"
     ]
    }
   ],
   "source": [
    "# 接收用户输入的成绩\n",
    "grade = float(input(\"请输入学生的成绩：\"))\n",
    "\n",
    "# 根据成绩判断等级\n",
    "if grade >= 90:\n",
    "    print(\"A\")\n",
    "elif grade >= 80:\n",
    "    print(\"B\")\n",
    "elif grade >= 60:\n",
    "    print(\"C\")\n",
    "else:\n",
    "    print(\"D\")\n"
   ]
  },
  {
   "cell_type": "code",
   "execution_count": 59,
   "id": "592f4102-8662-44e5-b3c7-1738a140f7d0",
   "metadata": {},
   "outputs": [
    {
     "name": "stdin",
     "output_type": "stream",
     "text": [
      "pls input a 3 digits number 145\n"
     ]
    },
    {
     "name": "stdout",
     "output_type": "stream",
     "text": [
      "5\n",
      "4\n",
      "1\n"
     ]
    }
   ],
   "source": [
    "a=int(input(\"pls input a 3 digits number\"))\n",
    "b=a%10\n",
    "c=a//10%10\n",
    "d=a//100\n",
    "print(b)\n",
    "print(c)\n",
    "print(d)"
   ]
  },
  {
   "cell_type": "code",
   "execution_count": 66,
   "id": "718e5741-864d-4633-87cc-e873c2984fff",
   "metadata": {},
   "outputs": [
    {
     "name": "stdin",
     "output_type": "stream",
     "text": [
      " 5\n",
      " 6\n",
      " 4\n"
     ]
    },
    {
     "name": "stdout",
     "output_type": "stream",
     "text": [
      "max= 6\n"
     ]
    }
   ],
   "source": [
    "a=int(input())\n",
    "b=int(input())\n",
    "c=int(input())\n",
    "if a>c and a>b:\n",
    "    max=a\n",
    "elif b>c and b>c :\n",
    "    max=b\n",
    "else:\n",
    "    max=c\n",
    "print(\"max=\", max)\n",
    "    "
   ]
  },
  {
   "cell_type": "code",
   "execution_count": null,
   "id": "542257e8-48df-4061-9e89-f13eb3c4f2b7",
   "metadata": {},
   "outputs": [],
   "source": []
  }
 ],
 "metadata": {
  "kernelspec": {
   "display_name": "Python 3 (ipykernel)",
   "language": "python",
   "name": "python3"
  },
  "language_info": {
   "codemirror_mode": {
    "name": "ipython",
    "version": 3
   },
   "file_extension": ".py",
   "mimetype": "text/x-python",
   "name": "python",
   "nbconvert_exporter": "python",
   "pygments_lexer": "ipython3",
   "version": "3.11.7"
  }
 },
 "nbformat": 4,
 "nbformat_minor": 5
}
